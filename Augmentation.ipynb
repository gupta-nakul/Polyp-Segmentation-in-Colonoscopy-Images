{
 "cells": [
  {
   "cell_type": "code",
   "execution_count": 84,
   "id": "93d8af1b",
   "metadata": {
    "scrolled": true
   },
   "outputs": [
    {
     "name": "stderr",
     "output_type": "stream",
     "text": [
      "C:\\Users\\TEJAS\\AppData\\Local\\Temp\\ipykernel_17216\\53770509.py:7: DeprecationWarning: Please use `rotate` from the `scipy.ndimage` namespace, the `scipy.ndimage.interpolation` namespace is deprecated.\n",
      "  from scipy.ndimage.interpolation import rotate\n"
     ]
    }
   ],
   "source": [
    "import os\n",
    "import numpy as np\n",
    "import cv2\n",
    "from tensorflow.keras.utils import Sequence\n",
    "import random\n",
    "from glob import glob\n",
    "from scipy.ndimage.interpolation import rotate\n",
    "from tqdm import tqdm\n",
    "from sklearn.model_selection import train_test_split"
   ]
  },
  {
   "cell_type": "code",
   "execution_count": 85,
   "id": "87c0b258",
   "metadata": {},
   "outputs": [],
   "source": [
    "def read_image(imagefile, grayscale=False):\n",
    "    if grayscale == True:\n",
    "        image = cv2.imread(imagefile)\n",
    "        #image = np.expand_dims(image, -1)\n",
    "    else:\n",
    "        image = cv2.imread(imagefile)\n",
    "    return image"
   ]
  },
  {
   "cell_type": "code",
   "execution_count": 86,
   "id": "346f4626",
   "metadata": {},
   "outputs": [],
   "source": [
    "def save_image(image, mask, path, binary=True):\n",
    "    image = np.array(image)\n",
    "    if binary == True:\n",
    "        mask = cv2.cvtColor(mask, cv2.COLOR_BGR2GRAY)\n",
    "    cv2.imwrite(path[0], image)\n",
    "    cv2.imwrite(path[1], mask)"
   ]
  },
  {
   "cell_type": "code",
   "execution_count": 87,
   "id": "85f90f57",
   "metadata": {},
   "outputs": [],
   "source": [
    "def concat_images(images, rows, cols):\n",
    "    _, h, w, _ = images.shape\n",
    "    images = images.reshape((rows, cols, h, w, 3))\n",
    "    images = images.transpose(0, 2, 1, 3, 4)\n",
    "    images = images.reshape((rows * h, cols * w, 3))\n",
    "    return images"
   ]
  },
  {
   "cell_type": "code",
   "execution_count": 88,
   "id": "3c757d4b",
   "metadata": {},
   "outputs": [],
   "source": [
    "def check_size(size):\n",
    "    if type(size) == int:\n",
    "        size = (size, size)\n",
    "    if type(size) != tuple:\n",
    "        raise TypeError('size is int or tuple')\n",
    "    return size"
   ]
  },
  {
   "cell_type": "code",
   "execution_count": 89,
   "id": "86c5dfc2",
   "metadata": {},
   "outputs": [],
   "source": [
    "def subtract(image):\n",
    "    image = image / 255\n",
    "    return image"
   ]
  },
  {
   "cell_type": "code",
   "execution_count": 90,
   "id": "9f9d4280",
   "metadata": {},
   "outputs": [],
   "source": [
    "def resize(image, size):\n",
    "    size = check_size(size)\n",
    "    image = cv2.resize(image, size)\n",
    "    return image"
   ]
  },
  {
   "cell_type": "code",
   "execution_count": 91,
   "id": "34e93b63",
   "metadata": {},
   "outputs": [],
   "source": [
    "def center_crop(image, mask, crop_size, size):\n",
    "    h, w, _ = image.shape\n",
    "    crop_size = check_size(crop_size)\n",
    "    top = (h - crop_size[0]) // 2\n",
    "    left = (w - crop_size[1]) // 2\n",
    "    bottom = top + crop_size[0]\n",
    "    right = left + crop_size[1]\n",
    "\n",
    "    image = image[top:bottom, left:right, :]\n",
    "    mask = mask[top:bottom, left:right, :]\n",
    "\n",
    "    image = resize(image, size)\n",
    "    mask = resize(mask, size)\n",
    "\n",
    "    return image, mask"
   ]
  },
  {
   "cell_type": "code",
   "execution_count": 92,
   "id": "fdcbcafc",
   "metadata": {},
   "outputs": [],
   "source": [
    "def random_crop(image, mask, crop_size, size):\n",
    "    crop_size = check_size(crop_size)\n",
    "    h, w, _ = image.shape\n",
    "    top = np.random.randint(0, h - crop_size[0])\n",
    "    left = np.random.randint(0, w - crop_size[1])\n",
    "    bottom = top + crop_size[0]\n",
    "    right = left + crop_size[1]\n",
    "\n",
    "    image = image[top:bottom, left:right, :]\n",
    "    mask = mask[top:bottom, left:right, :]\n",
    "\n",
    "    image = resize(image, size)\n",
    "    mask = resize(mask, size)\n",
    "\n",
    "    return image, mask"
   ]
  },
  {
   "cell_type": "code",
   "execution_count": 93,
   "id": "629d5287",
   "metadata": {},
   "outputs": [],
   "source": [
    "def horizontal_flip(image, mask, size):\n",
    "    image = image[:, ::-1, :]\n",
    "    mask = mask[:, ::-1, :]\n",
    "\n",
    "    image = resize(image, size)\n",
    "    mask = resize(mask, size)\n",
    "\n",
    "    return image, mask"
   ]
  },
  {
   "cell_type": "code",
   "execution_count": 94,
   "id": "b8b2d9f5",
   "metadata": {},
   "outputs": [],
   "source": [
    "def vertical_flip(image, mask, size):\n",
    "    image = image[::-1, :, :]\n",
    "    mask = mask[::-1, :, :]\n",
    "\n",
    "    image = resize(image, size)\n",
    "    mask = resize(mask, size)\n",
    "\n",
    "    return image, mask"
   ]
  },
  {
   "cell_type": "code",
   "execution_count": 95,
   "id": "1231087e",
   "metadata": {},
   "outputs": [],
   "source": [
    "def scale_augmentation(image, mask, scale_range, crop_size, size):\n",
    "    scale_size = np.random.randint(*scale_range)\n",
    "    image = cv2.resize(image, (scale_size, scale_size))\n",
    "    mask = cv2.resize(mask, (scale_size, scale_size))\n",
    "    image, mask = random_crop(image, mask, crop_size, size)\n",
    "    return image, mask"
   ]
  },
  {
   "cell_type": "code",
   "execution_count": 96,
   "id": "6d37c1f9",
   "metadata": {},
   "outputs": [],
   "source": [
    "def random_rotation(image, mask, size, angle_range=(0, 90)):\n",
    "    h1, w1, _ = image.shape\n",
    "    h2, w2, _ = mask.shape\n",
    "\n",
    "    angle = np.random.randint(*angle_range)\n",
    "    image = rotate(image, angle)\n",
    "    image = resize(image, (h1, w1))\n",
    "\n",
    "    mask = rotate(mask, angle)\n",
    "    mask = resize(mask, (h2, w2))\n",
    "\n",
    "    image = resize(image, size)\n",
    "    mask = resize(mask, size)\n",
    "\n",
    "    return image, mask"
   ]
  },
  {
   "cell_type": "code",
   "execution_count": 97,
   "id": "8b51fe98",
   "metadata": {},
   "outputs": [],
   "source": [
    "def cutout(image_origin, mask_origin, mask_size, mask_value='mean'):\n",
    "    image = np.copy(image_origin)\n",
    "    mask = np.copy(mask_origin)\n",
    "\n",
    "    if mask_value == 'mean':\n",
    "        mask_value = image.mean()\n",
    "    elif mask_value == 'random':\n",
    "        mask_value = np.random.randint(0, 256)\n",
    "\n",
    "    h, w, _ = image.shape\n",
    "    top = np.random.randint(0 - mask_size // 2, h - mask_size)\n",
    "    left = np.random.randint(0 - mask_size // 2, w - mask_size)\n",
    "    bottom = top + mask_size\n",
    "    right = left + mask_size\n",
    "    if top < 0:\n",
    "        top = 0\n",
    "    if left < 0:\n",
    "        left = 0\n",
    "\n",
    "    image[top:bottom, left:right, :].fill(mask_value)\n",
    "    mask[top:bottom, left:right, :].fill(0)\n",
    "\n",
    "    image = resize(image, size)\n",
    "    mask = resize(mask, size)\n",
    "\n",
    "    return image, mask"
   ]
  },
  {
   "cell_type": "code",
   "execution_count": 98,
   "id": "68c00bd3",
   "metadata": {},
   "outputs": [],
   "source": [
    "def brightness_augment(img, mask, factor=0.5):\n",
    "    hsv = cv2.cvtColor(img, cv2.COLOR_RGB2HSV) #convert to hsv\n",
    "    hsv = np.array(hsv, dtype=np.float64)\n",
    "    hsv[:, :, 2] = hsv[:, :, 2] * (factor + np.random.uniform()) #scale channel V uniformly\n",
    "    hsv[:, :, 2][hsv[:, :, 2] > 255] = 255 #reset out of range values\n",
    "    rgb = cv2.cvtColor(np.array(hsv, dtype=np.uint8), cv2.COLOR_HSV2RGB)\n",
    "\n",
    "    image = resize(rgb, size)\n",
    "    mask = resize(mask, size)\n",
    "\n",
    "    return image, mask"
   ]
  },
  {
   "cell_type": "code",
   "execution_count": 99,
   "id": "2ea634b6",
   "metadata": {},
   "outputs": [],
   "source": [
    "def rgb_to_grayscale(img, mask):\n",
    "    img = cv2.cvtColor(img, cv2.COLOR_RGB2GRAY)\n",
    "    img = [img, img, img]\n",
    "    img = np.transpose(img, (1, 2, 0))\n",
    "\n",
    "    image = resize(img, size)\n",
    "    mask = resize(mask, size)\n",
    "    return image, mask"
   ]
  },
  {
   "cell_type": "code",
   "execution_count": 100,
   "id": "83436b1a",
   "metadata": {},
   "outputs": [],
   "source": [
    "def create_dir(name):\n",
    "    try:\n",
    "        os.mkdir(name)\n",
    "    except:\n",
    "        pass"
   ]
  },
  {
   "cell_type": "code",
   "execution_count": 102,
   "id": "03fc6cbe",
   "metadata": {},
   "outputs": [],
   "source": [
    "### Image Augmentation\n",
    "size = (256, 256)\n",
    "crop_size = (300, 300)\n",
    "\n",
    "path = os.path.normpath(\"./datasets\")\n",
    "dataset_name = os.path.normpath(\"kvasir_segmentation_dataset\")\n",
    "full_path = os.path.join(path, dataset_name)\n",
    "\n",
    "new_path = os.path.normpath(\"new_seg_data/\")\n",
    "create_dir(new_path)\n",
    "new_full_path = os.path.join(new_path, dataset_name)\n",
    "\n",
    "train_path = os.path.join(new_full_path, \"train\")\n",
    "valid_path = os.path.join(new_full_path, \"valid\")\n",
    "test_path = os.path.join(new_full_path, \"test\")"
   ]
  },
  {
   "cell_type": "code",
   "execution_count": 120,
   "id": "385fd27f",
   "metadata": {},
   "outputs": [
    {
     "data": {
      "text/plain": [
       "'new_seg_data\\\\kvasir_segmentation_dataset\\\\valid'"
      ]
     },
     "execution_count": 120,
     "metadata": {},
     "output_type": "execute_result"
    }
   ],
   "source": [
    "valid_path"
   ]
  },
  {
   "cell_type": "code",
   "execution_count": 104,
   "id": "404248e9",
   "metadata": {},
   "outputs": [],
   "source": [
    "if not os.path.exists(new_full_path):\n",
    "    os.mkdir(new_full_path)\n",
    "    for path in [train_path, valid_path, test_path]:\n",
    "        os.mkdir(path)\n",
    "        os.mkdir(os.path.join(path, \"images\"))\n",
    "        os.mkdir(os.path.join(path, \"masks\"))\n",
    "\n",
    "images = glob(os.path.join(full_path, \"images/\", \"*\"))\n",
    "masks = glob(os.path.join(full_path, \"masks/\", \"*\"))\n",
    "\n",
    "images.sort()\n",
    "masks.sort()"
   ]
  },
  {
   "cell_type": "code",
   "execution_count": 106,
   "id": "9e2e51c5",
   "metadata": {},
   "outputs": [
    {
     "name": "stdout",
     "output_type": "stream",
     "text": [
      "Total Size:  1000\n",
      "Training Size:  800\n",
      "Validation Size:  100\n",
      "Testing Size:  100\n"
     ]
    }
   ],
   "source": [
    "len_ids = len(images)\n",
    "train_size = int((80/100)*len_ids)\n",
    "valid_size = int((10/100)*len_ids)\t\t## Here 10 is the percent of images used for validation\n",
    "test_size = int((10/100)*len_ids)\t\t## Here 10 is the percent of images used for testing\n",
    "\n",
    "train_images, test_images = train_test_split(images, test_size=test_size, random_state=42)\n",
    "train_masks, test_masks = train_test_split(masks, test_size=test_size, random_state=42)\n",
    "\n",
    "train_images, valid_images = train_test_split(train_images, test_size=test_size, random_state=42)\n",
    "train_masks, valid_masks = train_test_split(train_masks, test_size=test_size, random_state=42)\n",
    "\n",
    "print(\"Total Size: \", len_ids)\n",
    "print(\"Training Size: \", train_size)\n",
    "print(\"Validation Size: \", valid_size)\n",
    "print(\"Testing Size: \", test_size)"
   ]
  },
  {
   "cell_type": "code",
   "execution_count": 125,
   "id": "9d17965f",
   "metadata": {},
   "outputs": [
    {
     "name": "stderr",
     "output_type": "stream",
     "text": [
      "100%|██████████████████████████████████████████████████████████████████| 100/100 [00:00<00:00, 113.47it/s]\n"
     ]
    }
   ],
   "source": [
    "## Testing images and masks\n",
    "for idx, p in tqdm(enumerate(test_images), total=len(test_images)):\n",
    "    ## Path\n",
    "    name = p.split(\"\\\\\")[-1].split(\".\")[0]\n",
    "    image_path = test_images[idx]\n",
    "    mask_path = test_masks[idx]\n",
    "\n",
    "    if os.path.exists(image_path) and os.path.exists(mask_path):\n",
    "        image = read_image(image_path)\n",
    "        mask = read_image(mask_path, grayscale=True)\n",
    "\n",
    "        new_image_path = os.path.join(new_full_path, \"test\", \"images/\")\n",
    "        new_mask_path = os.path.join(new_full_path, \"test\", \"masks/\")\n",
    "\n",
    "        image = resize(image, size)\n",
    "        mask = resize(mask, size)\n",
    "\n",
    "        img_path = new_image_path + str(name) + \".jpg\"\n",
    "        mask_path = new_mask_path + str(name) + \".jpg\"\n",
    "        tmp_path = [img_path, mask_path]\n",
    "        save_image(image, mask, tmp_path)"
   ]
  },
  {
   "cell_type": "code",
   "execution_count": 130,
   "id": "2b65cd72",
   "metadata": {},
   "outputs": [
    {
     "name": "stderr",
     "output_type": "stream",
     "text": [
      "100%|██████████████████████████████████████████████████████████████████| 100/100 [00:00<00:00, 114.09it/s]\n"
     ]
    }
   ],
   "source": [
    "## Validation images and masks\n",
    "for idx, p in tqdm(enumerate(valid_images), total=len(valid_images)):\n",
    "    ## Path\n",
    "    name = p.split(\"\\\\\")[-1].split(\".\")[0]\n",
    "    image_path = valid_images[idx]\n",
    "    mask_path = valid_masks[idx]\n",
    "\n",
    "    if os.path.exists(image_path) and os.path.exists(mask_path):\n",
    "        image = read_image(image_path)\n",
    "        mask = read_image(mask_path, grayscale=True)\n",
    "\n",
    "        new_image_path = os.path.join(new_full_path, \"valid\", \"images/\")\n",
    "        new_mask_path = os.path.join(new_full_path, \"valid\", \"masks/\")\n",
    "\n",
    "        image = resize(image, size)\n",
    "        mask = resize(mask, size)\n",
    "\n",
    "        img_path = new_image_path + str(name) + \".jpg\"\n",
    "        mask_path = new_mask_path + str(name) + \".jpg\"\n",
    "        tmp_path = [img_path, mask_path]\n",
    "        save_image(image, mask, tmp_path)"
   ]
  },
  {
   "cell_type": "code",
   "execution_count": 132,
   "id": "2c24fb50",
   "metadata": {
    "scrolled": true
   },
   "outputs": [
    {
     "name": "stderr",
     "output_type": "stream",
     "text": [
      "100%|███████████████████████████████████████████████████████████████████| 800/800 [26:20<00:00,  1.98s/it]\n"
     ]
    }
   ],
   "source": [
    "## Training images and masks\n",
    "for idx, p in tqdm(enumerate(train_images), total=len(train_images)):\n",
    "    ## Path\n",
    "    name = p.split(\"\\\\\")[-1].split(\".\")[0]\n",
    "    image_path = train_images[idx]\n",
    "    mask_path = train_masks[idx]\n",
    "\n",
    "    if os.path.exists(image_path) and os.path.exists(image_path):\n",
    "        image = read_image(image_path)\n",
    "        mask = read_image(mask_path, grayscale=True)\n",
    "\n",
    "        ## Augment\n",
    "        image1, mask1 = center_crop(image, mask, crop_size, size)\n",
    "        image2, mask2 = random_crop(image, mask, crop_size, size)\n",
    "        image3, mask3 = horizontal_flip(image, mask, size)\n",
    "        image4, mask4 = vertical_flip(image, mask, size)\n",
    "        image5, mask5 = scale_augmentation(image, mask, (512, 768), crop_size, size)\n",
    "        image6, mask6 = random_rotation(image, mask, size)\n",
    "        image7, mask7 = cutout(image, mask, 256)\n",
    "        ## Extra Cropping\n",
    "        image8, mask8 = random_crop(image, mask, crop_size, size)\n",
    "        image9, mask9 = random_crop(image, mask, crop_size, size)\n",
    "        ## Extra Scale Augmentation\n",
    "        image10, mask10 = scale_augmentation(image, mask, (540, 820), crop_size, size)\n",
    "        image11, mask11 = scale_augmentation(image, mask, (720, 1024), crop_size, size)\n",
    "        ## Extra Rotation\n",
    "        image12, mask12 = random_rotation(image, mask, size)\n",
    "        image13, mask13 = random_rotation(image, mask, size)\n",
    "        ## Brightness\n",
    "        image14, mask14 = brightness_augment(image, mask, factor=0.3)\n",
    "        image15, mask15 = brightness_augment(image, mask, factor=0.6)\n",
    "        image16, mask16 = brightness_augment(image, mask, factor=0.9)\n",
    "        ## More Rotation\n",
    "        image17, mask17 = random_rotation(image, mask, size)\n",
    "        image18, mask18 = random_rotation(image, mask, size)\n",
    "        ## More Random Crop\n",
    "        image19, mask19 = random_crop(image, mask, crop_size, size)\n",
    "        image20, mask20 = random_crop(image, mask, crop_size, size)\n",
    "        ## More Cutout\n",
    "        image21, mask21 = cutout(image, mask, 256)\n",
    "        image22, mask22 = cutout(image, mask, 256)\n",
    "        ## Grayscale\n",
    "        image23, mask23 = rgb_to_grayscale(image, mask)\n",
    "        image24, mask24 = rgb_to_grayscale(image1, mask1)\n",
    "        image25, mask25 = rgb_to_grayscale(image2, mask2)\n",
    "        image26, mask26 = rgb_to_grayscale(image3, mask3)\n",
    "        image27, mask27 = rgb_to_grayscale(image4, mask4)\n",
    "        image28, mask28 = rgb_to_grayscale(image5, mask5)\n",
    "        image29, mask29 = rgb_to_grayscale(image15, mask15)\n",
    "        image30, mask30 = rgb_to_grayscale(image16, mask16)\n",
    "\n",
    "        ## Original image and mask\n",
    "        image = resize(image, size)\n",
    "        mask = resize(mask, size)\n",
    "\n",
    "        ## All images and masks\n",
    "        all_images = [image, image1, image2, image3, image4, image5, image6, image7,\n",
    "            image8, image9, image10, image11, image12, image13, image14, image15, image16,\n",
    "            image17, image18, image19, image20, image21, image22,\n",
    "            image23,image24, image25, image26, image27, image28, image29, image30\n",
    "            ]\n",
    "        all_masks  = [mask, mask1, mask2, mask3, mask4, mask5, mask6, mask7, mask8,\n",
    "            mask9, mask10, mask11, mask12, mask13, mask14, mask15, mask16,\n",
    "            mask17, mask18, mask19, mask20, mask21, mask22,\n",
    "            mask23, mask24, mask25, mask26, mask27, mask28, mask29, mask30\n",
    "            ]\n",
    "\n",
    "        ## Save the images and masks\n",
    "        new_image_path = os.path.join(new_full_path, \"train\", \"images/\")\n",
    "        new_mask_path = os.path.join(new_full_path, \"train\", \"masks/\")\n",
    "\n",
    "        for j in range(len(all_images)):\n",
    "            img_path = new_image_path + str(name) + \"_\" + str(j) + \".jpg\"\n",
    "            msk_path = new_mask_path + str(name) + \"_\" + str(j) + \".jpg\"\n",
    "\n",
    "            img = all_images[j]\n",
    "            msk = all_masks[j]\n",
    "            path = [img_path, msk_path]\n",
    "\n",
    "            save_image(img, msk, path)"
   ]
  },
  {
   "cell_type": "code",
   "execution_count": null,
   "id": "96b00e80",
   "metadata": {},
   "outputs": [],
   "source": []
  }
 ],
 "metadata": {
  "kernelspec": {
   "display_name": "Python 3",
   "language": "python",
   "name": "python3"
  },
  "language_info": {
   "codemirror_mode": {
    "name": "ipython",
    "version": 3
   },
   "file_extension": ".py",
   "mimetype": "text/x-python",
   "name": "python",
   "nbconvert_exporter": "python",
   "pygments_lexer": "ipython3",
   "version": "3.8.8"
  }
 },
 "nbformat": 4,
 "nbformat_minor": 5
}
